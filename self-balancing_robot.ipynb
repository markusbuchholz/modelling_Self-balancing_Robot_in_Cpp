{
 "cells": [
  {
   "cell_type": "markdown",
   "metadata": {},
   "source": [
    "## Self-balancing Robot"
   ]
  },
  {
   "cell_type": "code",
   "execution_count": 1,
   "metadata": {},
   "outputs": [],
   "source": [
    "from sympy import symbols, cos, sin, pi, acos, simplify\n",
    "from sympy.matrices import Matrix\n",
    "from sympy.physics.mechanics import *\n",
    "import numpy as np"
   ]
  },
  {
   "cell_type": "code",
   "execution_count": 2,
   "metadata": {},
   "outputs": [],
   "source": [
    "m, a, l, theta, Dtheta, r, fi, g, u, M = symbols ( 'm a l theta Dtheta r fi g u M')"
   ]
  },
  {
   "cell_type": "code",
   "execution_count": 3,
   "metadata": {},
   "outputs": [],
   "source": [
    "Aa, Bb, Cc, Dd, Ee, Ff = symbols ('Aa Bb Cc Dd Ee Ff')"
   ]
  },
  {
   "cell_type": "code",
   "execution_count": 4,
   "metadata": {},
   "outputs": [],
   "source": [
    "A11, A12, A21, A22 = symbols ( 'A11 A12 A21 A22')"
   ]
  },
  {
   "cell_type": "code",
   "execution_count": 5,
   "metadata": {},
   "outputs": [],
   "source": [
    "B1, B2 = symbols ( 'B1 B2')"
   ]
  },
  {
   "cell_type": "code",
   "execution_count": 6,
   "metadata": {},
   "outputs": [],
   "source": [
    "#A12 = A21\n",
    "A = Matrix([[ A11, A12],\n",
    "              [ A12, A22]])"
   ]
  },
  {
   "cell_type": "code",
   "execution_count": 7,
   "metadata": {},
   "outputs": [
    {
     "data": {
      "text/latex": [
       "$\\displaystyle \\left[\\begin{matrix}\\frac{A_{22}}{A_{11} A_{22} - A_{12}^{2}} & - \\frac{A_{12}}{A_{11} A_{22} - A_{12}^{2}}\\\\- \\frac{A_{12}}{A_{11} A_{22} - A_{12}^{2}} & \\frac{A_{11}}{A_{11} A_{22} - A_{12}^{2}}\\end{matrix}\\right]$"
      ],
      "text/plain": [
       "Matrix([\n",
       "[ A22/(A11*A22 - A12**2), -A12/(A11*A22 - A12**2)],\n",
       "[-A12/(A11*A22 - A12**2),  A11/(A11*A22 - A12**2)]])"
      ]
     },
     "execution_count": 7,
     "metadata": {},
     "output_type": "execute_result"
    }
   ],
   "source": [
    "(A**-1)"
   ]
  },
  {
   "cell_type": "code",
   "execution_count": 8,
   "metadata": {},
   "outputs": [
    {
     "data": {
      "text/latex": [
       "$\\displaystyle \\left[\\begin{matrix}A_{22} & - A_{12}\\\\- A_{12} & A_{11}\\end{matrix}\\right]$"
      ],
      "text/plain": [
       "Matrix([\n",
       "[ A22, -A12],\n",
       "[-A12,  A11]])"
      ]
     },
     "execution_count": 8,
     "metadata": {},
     "output_type": "execute_result"
    }
   ],
   "source": [
    "#determinant\n",
    "A.adjugate()"
   ]
  },
  {
   "cell_type": "code",
   "execution_count": 9,
   "metadata": {},
   "outputs": [],
   "source": [
    "B = Matrix([[ B1],\n",
    "              [ B2]])"
   ]
  },
  {
   "cell_type": "code",
   "execution_count": 10,
   "metadata": {},
   "outputs": [],
   "source": [
    "x = (A**-1)*B"
   ]
  },
  {
   "cell_type": "code",
   "execution_count": 11,
   "metadata": {},
   "outputs": [
    {
     "data": {
      "text/latex": [
       "$\\displaystyle \\left[\\begin{matrix}- \\frac{A_{12} B_{2}}{A_{11} A_{22} - A_{12}^{2}} + \\frac{A_{22} B_{1}}{A_{11} A_{22} - A_{12}^{2}}\\\\\\frac{A_{11} B_{2}}{A_{11} A_{22} - A_{12}^{2}} - \\frac{A_{12} B_{1}}{A_{11} A_{22} - A_{12}^{2}}\\end{matrix}\\right]$"
      ],
      "text/plain": [
       "Matrix([\n",
       "[-A12*B2/(A11*A22 - A12**2) + A22*B1/(A11*A22 - A12**2)],\n",
       "[ A11*B2/(A11*A22 - A12**2) - A12*B1/(A11*A22 - A12**2)]])"
      ]
     },
     "execution_count": 11,
     "metadata": {},
     "output_type": "execute_result"
    }
   ],
   "source": [
    "x"
   ]
  },
  {
   "cell_type": "code",
   "execution_count": 12,
   "metadata": {},
   "outputs": [],
   "source": [
    "#Aa = m* (a**2 + l**2/12)\n",
    "A11 = Aa\n",
    "\n",
    "#Bb = m * a * r \n",
    "A12 = Bb * cos(theta)\n",
    "\n",
    "A21 = A12\n",
    "\n",
    "#Cc = (m + 3/2 * M) * r**2\n",
    "A22 = Cc\n",
    "\n",
    "#Ff = m * a * g\n",
    "\n",
    "B1 = Ff * sin(theta) - u\n",
    "B2 = Bb * Dtheta**2 * sin(theta) + u"
   ]
  },
  {
   "cell_type": "code",
   "execution_count": 13,
   "metadata": {},
   "outputs": [
    {
     "data": {
      "text/latex": [
       "$\\displaystyle \\left[\\begin{matrix}- \\frac{Bb \\left(Bb Dtheta^{2} \\sin{\\left(\\theta \\right)} + u\\right) \\cos{\\left(\\theta \\right)}}{Aa Cc - Bb^{2} \\cos^{2}{\\left(\\theta \\right)}} + \\frac{Cc \\left(Ff \\sin{\\left(\\theta \\right)} - u\\right)}{Aa Cc - Bb^{2} \\cos^{2}{\\left(\\theta \\right)}}\\\\\\frac{Aa \\left(Bb Dtheta^{2} \\sin{\\left(\\theta \\right)} + u\\right)}{Aa Cc - Bb^{2} \\cos^{2}{\\left(\\theta \\right)}} - \\frac{Bb \\left(Ff \\sin{\\left(\\theta \\right)} - u\\right) \\cos{\\left(\\theta \\right)}}{Aa Cc - Bb^{2} \\cos^{2}{\\left(\\theta \\right)}}\\end{matrix}\\right]$"
      ],
      "text/plain": [
       "Matrix([\n",
       "[-Bb*(Bb*Dtheta**2*sin(theta) + u)*cos(theta)/(Aa*Cc - Bb**2*cos(theta)**2) + Cc*(Ff*sin(theta) - u)/(Aa*Cc - Bb**2*cos(theta)**2)],\n",
       "[ Aa*(Bb*Dtheta**2*sin(theta) + u)/(Aa*Cc - Bb**2*cos(theta)**2) - Bb*(Ff*sin(theta) - u)*cos(theta)/(Aa*Cc - Bb**2*cos(theta)**2)]])"
      ]
     },
     "execution_count": 13,
     "metadata": {},
     "output_type": "execute_result"
    }
   ],
   "source": [
    "A = Matrix([[ A11, A12],\n",
    "              [ A12, A22]])\n",
    "\n",
    "B = Matrix([[ B1],\n",
    "              [ B2]])\n",
    "\n",
    "x = (A**-1)*B\n",
    "\n",
    "x"
   ]
  },
  {
   "cell_type": "code",
   "execution_count": 26,
   "metadata": {},
   "outputs": [
    {
     "data": {
      "text/latex": [
       "$\\displaystyle - \\frac{Bb \\left(Bb Dtheta^{2} \\sin{\\left(\\theta \\right)} + u\\right) \\cos{\\left(\\theta \\right)}}{Aa Cc - Bb^{2} \\cos^{2}{\\left(\\theta \\right)}} + \\frac{Cc \\left(Ff \\sin{\\left(\\theta \\right)} - u\\right)}{Aa Cc - Bb^{2} \\cos^{2}{\\left(\\theta \\right)}}$"
      ],
      "text/plain": [
       "-Bb*(Bb*Dtheta**2*sin(theta) + u)*cos(theta)/(Aa*Cc - Bb**2*cos(theta)**2) + Cc*(Ff*sin(theta) - u)/(Aa*Cc - Bb**2*cos(theta)**2)"
      ]
     },
     "execution_count": 26,
     "metadata": {},
     "output_type": "execute_result"
    }
   ],
   "source": [
    "#theta dot\n",
    "x[0]"
   ]
  },
  {
   "cell_type": "code",
   "execution_count": 25,
   "metadata": {},
   "outputs": [
    {
     "data": {
      "text/latex": [
       "$\\displaystyle \\frac{Aa \\left(Bb Dtheta^{2} \\sin{\\left(\\theta \\right)} + u\\right)}{Aa Cc - Bb^{2} \\cos^{2}{\\left(\\theta \\right)}} - \\frac{Bb \\left(Ff \\sin{\\left(\\theta \\right)} - u\\right) \\cos{\\left(\\theta \\right)}}{Aa Cc - Bb^{2} \\cos^{2}{\\left(\\theta \\right)}}$"
      ],
      "text/plain": [
       "Aa*(Bb*Dtheta**2*sin(theta) + u)/(Aa*Cc - Bb**2*cos(theta)**2) - Bb*(Ff*sin(theta) - u)*cos(theta)/(Aa*Cc - Bb**2*cos(theta)**2)"
      ]
     },
     "execution_count": 25,
     "metadata": {},
     "output_type": "execute_result"
    }
   ],
   "source": [
    "#fi dot\n",
    "x[1]"
   ]
  }
 ],
 "metadata": {
  "kernelspec": {
   "display_name": "Python 3 (ipykernel)",
   "language": "python",
   "name": "python3"
  },
  "language_info": {
   "codemirror_mode": {
    "name": "ipython",
    "version": 3
   },
   "file_extension": ".py",
   "mimetype": "text/x-python",
   "name": "python",
   "nbconvert_exporter": "python",
   "pygments_lexer": "ipython3",
   "version": "3.8.10"
  }
 },
 "nbformat": 4,
 "nbformat_minor": 2
}
